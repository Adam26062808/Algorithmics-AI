{
 "cells": [
  {
   "cell_type": "markdown",
   "id": "0e4931ad",
   "metadata": {},
   "source": [
    "# LESSON 4: Data Visualization & Regression - ADAM's Workbook\n",
    "\n",
    "**Instructions:** Complete all 12 exercises below.  \n",
    "For each chart type, you'll create 2 different visualizations.\n",
    "\n",
    "**Topics:** Data Visualization (6 types × 2 exercises = 12 exercises)\n",
    "\n",
    "## Dataset Columns Reference:\n",
    "\n",
    "- **idLobbyGame**: Unique identifier for each match\n",
    "- **idPlayer**: Unique identifier for each player\n",
    "- **idRoom**: Unique identifier for the game room\n",
    "- **qtKill**: The number of kills a player achieved in the match\n",
    "- **qtAssist**: The number of assists a player achieved in the match\n",
    "- **qtDeath**: The number of times a player died in the match\n",
    "- **qtHs**: The number of kills achieved by headshots\n",
    "- **qtBombeDefuse**: The number of times a player defused the bomb\n",
    "- **qtBombePlant**: The number of times a player planted the bomb\n",
    "- **qtTk**: The number of team kills committed by a player\n",
    "- **qtTkAssist**: The number of assists a player received for team kills\n",
    "- **qt1Kill**: The number of rounds where a player achieved one kill\n",
    "- **qt2Kill**: The number of rounds where a player achieved two kills\n",
    "- **qt3Kill**: The number of rounds where a player achieved three kills\n",
    "- **qt4Kill**: The number of rounds where a player achieved four kills\n",
    "- **qt5Kill**: The number of rounds where a player achieved five kills\n",
    "- **qtPlusKill**: The number of rounds where a player achieved more than one kill\n",
    "- **qtFirstKill**: The number of rounds where a player achieved the first kill\n",
    "- **vlDamage**: The total damage dealt by a player in the match\n",
    "- **qtHits**: The total number of successful hits by a player in the match\n",
    "- **qtShots**: The total number of shots fired by a player in the match\n",
    "- **qtLastAlive**: The number of rounds where a player was the last one alive\n",
    "- **qtClutchWon**: The total number of clutch situations won by a player\n",
    "- **qtRoundsPlayed**: The total number of rounds played in the match\n",
    "- **descMapName**: The name of the map where the match took place (e.g., de_mirage, de_inferno)\n",
    "- **vlLevel**: The player's Gamers Club (GC) level\n",
    "- **qtSurvived**: The number of rounds a player survived\n",
    "- **qtTrade**: The number of trade kills (killing an enemy shortly after a teammate is killed)\n",
    "- **qtFlashAssist**: The number of assists achieved using flashbangs\n",
    "- **qtHitHeadshot**: The total number of hits to an enemy's head\n",
    "- **qtHitChest**: The total number of hits to an enemy's chest\n",
    "- **qtHitStomach**: The total number of hits to an enemy's stomach\n",
    "- **qtHitLeftAtm**: The total number of hits to an enemy's left arm\n",
    "- **qtHitRightArm**: The total number of hits to an enemy's right arm\n",
    "- **qtHitLeftLeg**: The total number of hits to an enemy's left leg\n",
    "- **qtHitRightLeg**: The total number of hits to an enemy's right leg\n",
    "- **flWinner**: A flag indicating if the player's team won the match (1 for winner, 0 for loser)\n",
    "- **dtCreatedAt**: The date and time when the match was created"
   ]
  },
  {
   "cell_type": "code",
   "execution_count": 2,
   "id": "4e4e01cc",
   "metadata": {},
   "outputs": [
    {
     "name": "stdout",
     "output_type": "stream",
     "text": [
      "📊 Libraries imported successfully!\n",
      "🎨 Plotting style configured!\n"
     ]
    }
   ],
   "source": [
    "# Import Required Libraries\n",
    "import polars as pl\n",
    "import matplotlib.pyplot as plt\n",
    "import seaborn as sns\n",
    "import numpy as np\n",
    "\n",
    "# Set plotting style\n",
    "sns.set_style(\"whitegrid\")\n",
    "plt.rcParams['figure.figsize'] = (10, 6)\n",
    "\n",
    "print(\"📊 Libraries imported successfully!\")\n",
    "print(\"🎨 Plotting style configured!\")"
   ]
  },
  {
   "cell_type": "code",
   "execution_count": 3,
   "id": "258dff56",
   "metadata": {},
   "outputs": [
    {
     "name": "stdout",
     "output_type": "stream",
     "text": [
      "============================================================\n",
      "ADAM'S LESSON 4: Data Visualization Exercises\n",
      "============================================================\n",
      "Dataset shape: (184152, 38)\n",
      "Total rows: 184,152\n",
      "Total columns: 38\n",
      "\n",
      "First few rows:\n"
     ]
    },
    {
     "data": {
      "text/html": [
       "<div><style>\n",
       ".dataframe > thead > tr,\n",
       ".dataframe > tbody > tr {\n",
       "  text-align: right;\n",
       "  white-space: pre-wrap;\n",
       "}\n",
       "</style>\n",
       "<small>shape: (5, 38)</small><table border=\"1\" class=\"dataframe\"><thead><tr><th>idLobbyGame</th><th>idPlayer</th><th>idRoom</th><th>qtKill</th><th>qtAssist</th><th>qtDeath</th><th>qtHs</th><th>qtBombeDefuse</th><th>qtBombePlant</th><th>qtTk</th><th>qtTkAssist</th><th>qt1Kill</th><th>qt2Kill</th><th>qt3Kill</th><th>qt4Kill</th><th>qt5Kill</th><th>qtPlusKill</th><th>qtFirstKill</th><th>vlDamage</th><th>qtHits</th><th>qtShots</th><th>qtLastAlive</th><th>qtClutchWon</th><th>qtRoundsPlayed</th><th>descMapName</th><th>vlLevel</th><th>qtSurvived</th><th>qtTrade</th><th>qtFlashAssist</th><th>qtHitHeadshot</th><th>qtHitChest</th><th>qtHitStomach</th><th>qtHitLeftAtm</th><th>qtHitRightArm</th><th>qtHitLeftLeg</th><th>qtHitRightLeg</th><th>flWinner</th><th>dtCreatedAt</th></tr><tr><td>i64</td><td>i64</td><td>i64</td><td>i64</td><td>i64</td><td>i64</td><td>i64</td><td>i64</td><td>i64</td><td>f64</td><td>f64</td><td>i64</td><td>i64</td><td>i64</td><td>i64</td><td>i64</td><td>i64</td><td>i64</td><td>i64</td><td>f64</td><td>i64</td><td>f64</td><td>i64</td><td>i64</td><td>str</td><td>i64</td><td>f64</td><td>f64</td><td>f64</td><td>f64</td><td>f64</td><td>f64</td><td>f64</td><td>f64</td><td>f64</td><td>f64</td><td>i64</td><td>str</td></tr></thead><tbody><tr><td>1</td><td>1</td><td>1</td><td>5</td><td>1</td><td>16</td><td>2</td><td>0</td><td>0</td><td>0.0</td><td>0.0</td><td>3</td><td>1</td><td>0</td><td>0</td><td>0</td><td>0</td><td>1</td><td>911</td><td>25.0</td><td>212</td><td>0.0</td><td>0</td><td>17</td><td>&quot;de_mirage&quot;</td><td>10</td><td>1.0</td><td>2.0</td><td>0.0</td><td>3.0</td><td>13.0</td><td>4.0</td><td>2.0</td><td>2.0</td><td>1.0</td><td>0.0</td><td>0</td><td>&quot;2022-01-21 19:45:44&quot;</td></tr><tr><td>2</td><td>1</td><td>2</td><td>24</td><td>3</td><td>18</td><td>6</td><td>0</td><td>4</td><td>0.0</td><td>1.0</td><td>9</td><td>4</td><td>1</td><td>1</td><td>0</td><td>0</td><td>3</td><td>2933</td><td>54.0</td><td>597</td><td>1.0</td><td>1</td><td>27</td><td>&quot;de_nuke&quot;</td><td>9</td><td>8.0</td><td>1.0</td><td>0.0</td><td>7.0</td><td>26.0</td><td>14.0</td><td>2.0</td><td>1.0</td><td>1.0</td><td>3.0</td><td>1</td><td>&quot;2022-02-04 02:09:47&quot;</td></tr><tr><td>3</td><td>2</td><td>3</td><td>6</td><td>4</td><td>23</td><td>2</td><td>0</td><td>1</td><td>0.0</td><td>1.0</td><td>4</td><td>1</td><td>0</td><td>0</td><td>0</td><td>0</td><td>2</td><td>1117</td><td>31.0</td><td>207</td><td>0.0</td><td>0</td><td>25</td><td>&quot;de_mirage&quot;</td><td>2</td><td>2.0</td><td>3.0</td><td>0.0</td><td>3.0</td><td>15.0</td><td>8.0</td><td>1.0</td><td>2.0</td><td>0.0</td><td>2.0</td><td>0</td><td>&quot;2021-09-18 18:07:43&quot;</td></tr><tr><td>3</td><td>391</td><td>27508</td><td>10</td><td>5</td><td>20</td><td>4</td><td>1</td><td>0</td><td>0.0</td><td>0.0</td><td>6</td><td>2</td><td>0</td><td>0</td><td>0</td><td>0</td><td>1</td><td>1740</td><td>63.0</td><td>411</td><td>1.0</td><td>1</td><td>25</td><td>&quot;de_mirage&quot;</td><td>15</td><td>3.0</td><td>4.0</td><td>0.0</td><td>6.0</td><td>27.0</td><td>10.0</td><td>1.0</td><td>7.0</td><td>6.0</td><td>6.0</td><td>1</td><td>&quot;2021-09-18 18:07:43&quot;</td></tr><tr><td>4</td><td>2</td><td>4</td><td>8</td><td>4</td><td>26</td><td>6</td><td>0</td><td>2</td><td>0.0</td><td>0.0</td><td>4</td><td>2</td><td>0</td><td>0</td><td>0</td><td>0</td><td>1</td><td>1696</td><td>51.0</td><td>324</td><td>0.0</td><td>0</td><td>30</td><td>&quot;de_nuke&quot;</td><td>2</td><td>4.0</td><td>4.0</td><td>2.0</td><td>8.0</td><td>19.0</td><td>12.0</td><td>2.0</td><td>3.0</td><td>2.0</td><td>5.0</td><td>0</td><td>&quot;2021-09-27 00:17:45&quot;</td></tr></tbody></table></div>"
      ],
      "text/plain": [
       "shape: (5, 38)\n",
       "┌─────────────┬──────────┬────────┬────────┬───┬─────────────┬─────────────┬──────────┬────────────┐\n",
       "│ idLobbyGame ┆ idPlayer ┆ idRoom ┆ qtKill ┆ … ┆ qtHitLeftLe ┆ qtHitRightL ┆ flWinner ┆ dtCreatedA │\n",
       "│ ---         ┆ ---      ┆ ---    ┆ ---    ┆   ┆ g           ┆ eg          ┆ ---      ┆ t          │\n",
       "│ i64         ┆ i64      ┆ i64    ┆ i64    ┆   ┆ ---         ┆ ---         ┆ i64      ┆ ---        │\n",
       "│             ┆          ┆        ┆        ┆   ┆ f64         ┆ f64         ┆          ┆ str        │\n",
       "╞═════════════╪══════════╪════════╪════════╪═══╪═════════════╪═════════════╪══════════╪════════════╡\n",
       "│ 1           ┆ 1        ┆ 1      ┆ 5      ┆ … ┆ 1.0         ┆ 0.0         ┆ 0        ┆ 2022-01-21 │\n",
       "│             ┆          ┆        ┆        ┆   ┆             ┆             ┆          ┆ 19:45:44   │\n",
       "│ 2           ┆ 1        ┆ 2      ┆ 24     ┆ … ┆ 1.0         ┆ 3.0         ┆ 1        ┆ 2022-02-04 │\n",
       "│             ┆          ┆        ┆        ┆   ┆             ┆             ┆          ┆ 02:09:47   │\n",
       "│ 3           ┆ 2        ┆ 3      ┆ 6      ┆ … ┆ 0.0         ┆ 2.0         ┆ 0        ┆ 2021-09-18 │\n",
       "│             ┆          ┆        ┆        ┆   ┆             ┆             ┆          ┆ 18:07:43   │\n",
       "│ 3           ┆ 391      ┆ 27508  ┆ 10     ┆ … ┆ 6.0         ┆ 6.0         ┆ 1        ┆ 2021-09-18 │\n",
       "│             ┆          ┆        ┆        ┆   ┆             ┆             ┆          ┆ 18:07:43   │\n",
       "│ 4           ┆ 2        ┆ 4      ┆ 8      ┆ … ┆ 2.0         ┆ 5.0         ┆ 0        ┆ 2021-09-27 │\n",
       "│             ┆          ┆        ┆        ┆   ┆             ┆             ┆          ┆ 00:17:45   │\n",
       "└─────────────┴──────────┴────────┴────────┴───┴─────────────┴─────────────┴──────────┴────────────┘"
      ]
     },
     "execution_count": 3,
     "metadata": {},
     "output_type": "execute_result"
    }
   ],
   "source": [
    "# Load the CS:GO Dataset\n",
    "df = pl.read_csv(\"../Data/csgo_data.csv\")\n",
    "df_pandas = df.to_pandas()\n",
    "\n",
    "print(\"=\" * 60)\n",
    "print(\"ADAM'S LESSON 4: Data Visualization Exercises\")\n",
    "print(\"=\" * 60)\n",
    "print(f\"Dataset shape: {df.shape}\")\n",
    "print(f\"Total rows: {df.height:,}\")\n",
    "print(f\"Total columns: {df.width}\")\n",
    "print(\"\\nFirst few rows:\")\n",
    "df.head()"
   ]
  },
  {
   "cell_type": "markdown",
   "id": "08853ffa",
   "metadata": {},
   "source": [
    "# 📊 HISTOGRAM EXERCISES (2 exercises)\n",
    "\n",
    "Histograms show the **distribution** of data - how frequently different values occur."
   ]
  },
  {
   "cell_type": "markdown",
   "id": "fa6bac43",
   "metadata": {},
   "source": [
    "## Exercise 1: Histogram - Distribution of Total Damage\n",
    "\n",
    "**TODO:** Create a histogram showing the distribution of total damage (`vlDamage`)\n",
    "\n",
    "**Requirements:**\n",
    "- bins=40\n",
    "- color='steelblue'\n",
    "- appropriate labels and title\n",
    "- save as 'adam_plot_1_damage_histogram.png'"
   ]
  },
  {
   "cell_type": "code",
   "execution_count": 6,
   "id": "489a8dc0",
   "metadata": {},
   "outputs": [
    {
     "name": "stdout",
     "output_type": "stream",
     "text": [
      "✅ Exercise 1 completed!\n"
     ]
    }
   ],
   "source": [
    "# Exercise 1: YOUR CODE HERE\n",
    "\n",
    "plt.figure(figsize=(10, 6))\n",
    "# TODO: Create histogram of vlDamage with bins=40, color='steelblue'\n",
    "# TODO: Add xlabel, ylabel, and title\n",
    "# TODO: Save the plot\n",
    "plt.hist(df_pandas['vlDamage'], color = 'steelblue', bins=40)\n",
    "plt.xlabel('Player Damage')\n",
    "plt.ylabel(\"Frequency\")\n",
    "plt.title('Distribution of Player damage in CS:GO Matches', fontsize=14, fontweight='bold')\n",
    "plt.savefig('./adam_plot_1_damage_histogram.png')\n",
    "plt.close()\n",
    "\n",
    "print(\"✅ Exercise 1 completed!\")"
   ]
  },
  {
   "cell_type": "markdown",
   "id": "3480819e",
   "metadata": {},
   "source": [
    "## Exercise 2: Histogram - Distribution of Headshots\n",
    "\n",
    "**TODO:** Create a histogram showing the distribution of headshots (`qtHs`)\n",
    "\n",
    "**Requirements:**\n",
    "- bins=20\n",
    "- color='crimson'\n",
    "- appropriate labels and title\n",
    "- save as 'adam_plot_2_headshots_histogram.png'"
   ]
  },
  {
   "cell_type": "code",
   "execution_count": 8,
   "id": "d18a8df9",
   "metadata": {},
   "outputs": [
    {
     "name": "stdout",
     "output_type": "stream",
     "text": [
      "✅ Exercise 2 completed!\n"
     ]
    }
   ],
   "source": [
    "# Exercise 2: YOUR CODE HERE\n",
    "\n",
    "plt.figure(figsize=(10, 6))\n",
    "# TODO: Create histogram of qtHs with bins=20, color='crimson'\n",
    "# TODO: Add xlabel, ylabel, and title\n",
    "# TODO: Save the plot\n",
    "plt.hist(df_pandas['qtHs'], color = 'crimson', bins=20)\n",
    "plt.xlabel('Player headshot')\n",
    "plt.ylabel(\"Frequency\")\n",
    "plt.title('Distribution of Player headshot in CS:GO Matches', fontsize=14, fontweight='bold')\n",
    "plt.savefig('./adam_plot_2_headshots_histogram.png')\n",
    "\n",
    "plt.close()\n",
    "\n",
    "print(\"✅ Exercise 2 completed!\")"
   ]
  },
  {
   "cell_type": "markdown",
   "id": "4ca62d31",
   "metadata": {},
   "source": [
    "# 🔗 SCATTER PLOT EXERCISES (2 exercises)\n",
    "\n",
    "Scatter plots show the **relationship** between two continuous variables and help identify correlations."
   ]
  },
  {
   "cell_type": "markdown",
   "id": "e10c8d2c",
   "metadata": {},
   "source": [
    "## Exercise 3: Scatter Plot - Level vs Kills\n",
    "\n",
    "**TODO:** Create a scatter plot: Player Level (x-axis) vs Kills (y-axis)\n",
    "\n",
    "**Requirements:**\n",
    "1. Calculate correlation between `vlLevel` and `qtKill`\n",
    "2. Create scatter plot with alpha=0.4, color='teal'\n",
    "3. Add correlation value to the title\n",
    "4. Save as 'adam_plot_3_level_vs_kills.png'"
   ]
  },
  {
   "cell_type": "code",
   "execution_count": 9,
   "id": "fd53d83b",
   "metadata": {},
   "outputs": [
    {
     "name": "stdout",
     "output_type": "stream",
     "text": [
      "✅ Exercise 3 completed! Correlation: 0.246\n"
     ]
    }
   ],
   "source": [
    "# Exercise 3: YOUR CODE HERE\n",
    "\n",
    "# TODO: Calculate correlation\n",
    "\n",
    "correlation = df.select(pl.corr(\"vlLevel\", \"qtKill\")).item()\n",
    "\n",
    "plt.figure(figsize=(10, 6))\n",
    "# TODO: Create scatter plot of vlLevel vs qtKill\n",
    "# TODO: Add correlation to title, xlabel, ylabel\n",
    "# TODO: Save the plot\n",
    "plt.scatter(df_pandas['vlLevel'], df_pandas['qtKill'], alpha = 0.4, edgecolors = 'teal', linewidths=0.3)\n",
    "plt.xlabel('Total Level')\n",
    "plt.ylabel('Total Kills')\n",
    "plt.title(f'Relationship between Level and Kills - Correlation:{correlation}')\n",
    "plt.savefig('./adam_plot_3_level_vs_kills.png')\n",
    "plt.close()\n",
    "\n",
    "print(f\"✅ Exercise 3 completed! Correlation: {correlation:.3f}\")"
   ]
  },
  {
   "cell_type": "markdown",
   "id": "6a51273a",
   "metadata": {},
   "source": [
    "## Exercise 4: Scatter Plot - Rounds Played vs Deaths\n",
    "\n",
    "**TODO:** Create a scatter plot: Rounds Played (x-axis) vs Deaths (y-axis)\n",
    "\n",
    "**Requirements:**\n",
    "1. Calculate correlation between `qtRoundsPlayed` and `qtDeath`\n",
    "2. Create scatter plot with alpha=0.3, color='darkgreen'\n",
    "3. Add correlation value to the title\n",
    "4. Save as 'adam_plot_4_rounds_vs_deaths.png'"
   ]
  },
  {
   "cell_type": "code",
   "execution_count": 10,
   "id": "7b935e0c",
   "metadata": {},
   "outputs": [
    {
     "name": "stdout",
     "output_type": "stream",
     "text": [
      "✅ Exercise 4 completed!\n"
     ]
    }
   ],
   "source": [
    "# Exercise 4: YOUR CODE HERE\n",
    "\n",
    "# TODO: Calculate correlation\n",
    "correlation = None  # Use df.select(pl.corr(...))\n",
    "correlation = df.select(pl.corr(\"qtRoundsPlayed\", \"qtDeath\")).item()\n",
    "plt.figure(figsize=(10, 6))\n",
    "# TODO: Create scatter plot of qtRoundsPlayed vs qtDeath\n",
    "# TODO: Add correlation to title, xlabel, ylabel\n",
    "# TODO: Save the plot\n",
    "plt.scatter(df_pandas['qtRoundsPlayed'], df_pandas['qtDeath'], alpha = 0.3, edgecolors = 'darkgreen', linewidths=0.3)\n",
    "plt.xlabel('Total Rounds Played')\n",
    "plt.ylabel('Total Death')\n",
    "plt.title(f'Relationship between RoundsPlayed and Death - Correlation:{correlation}')\n",
    "plt.savefig('./adam_plot_4_rounds_vs_deaths.png')\n",
    "plt.close()\n",
    "plt.close()\n",
    "\n",
    "print(\"✅ Exercise 4 completed!\")"
   ]
  },
  {
   "cell_type": "markdown",
   "id": "04b5bea8",
   "metadata": {},
   "source": [
    "# 📊 BAR CHART EXERCISES (2 exercises)\n",
    "\n",
    "Bar charts are perfect for **comparing values** across different categories or groups."
   ]
  },
  {
   "cell_type": "markdown",
   "id": "f3d3b10b",
   "metadata": {},
   "source": [
    "## Exercise 5: Bar Chart - Average Deaths per Map\n",
    "\n",
    "**TODO:** Create a bar chart showing average deaths per map\n",
    "\n",
    "**Requirements:**\n",
    "1. Group by `descMapName` and calculate mean of `qtDeath`\n",
    "2. Sort by average deaths (descending)\n",
    "3. Create bar chart with colors from 'coolwarm' palette\n",
    "4. Rotate x-axis labels 45 degrees\n",
    "5. Save as 'adam_plot_5_avg_deaths_per_map.png'"
   ]
  },
  {
   "cell_type": "code",
   "execution_count": null,
   "id": "3db7b807",
   "metadata": {},
   "outputs": [],
   "source": [
    "# Exercise 5: YOUR CODE HERE\n",
    "\n",
    "# TODO: Group by descMapName and calculate mean deaths\n",
    "avg_deaths_per_map = None  # Use .group_by() and .agg()\n",
    "\n",
    "# Convert to pandas for plotting\n",
    "map_data = avg_deaths_per_map.to_pandas()\n",
    "\n",
    "plt.figure(figsize=(12, 6))\n",
    "# TODO: Create bar chart with 'coolwarm' colors\n",
    "# TODO: Rotate x-axis labels, add title and labels\n",
    "# TODO: Save the plot\n",
    "plt.close()\n",
    "\n",
    "print(\"✅ Exercise 5 completed!\")"
   ]
  },
  {
   "cell_type": "markdown",
   "id": "63189d74",
   "metadata": {},
   "source": [
    "## Exercise 6: Bar Chart - Average Damage by Map\n",
    "\n",
    "**TODO:** Create a bar chart showing average damage (`vlDamage`) by map\n",
    "\n",
    "**Requirements:**\n",
    "1. Group by `descMapName` and calculate mean of `vlDamage`\n",
    "2. Sort by average damage (descending)\n",
    "3. Create bar chart with colors from 'magma' palette\n",
    "4. Add value labels on top of each bar\n",
    "5. Save as 'adam_plot_6_avg_damage_per_map.png'"
   ]
  },
  {
   "cell_type": "code",
   "execution_count": null,
   "id": "f1934f30",
   "metadata": {},
   "outputs": [],
   "source": [
    "# Exercise 6: YOUR CODE HERE\n",
    "\n",
    "# TODO: Group by descMapName and calculate mean damage\n",
    "avg_damage_per_map = None  # Use .group_by() and .agg()\n",
    "\n",
    "map_data = avg_damage_per_map.to_pandas()\n",
    "\n",
    "plt.figure(figsize=(12, 6))\n",
    "# TODO: Create bar chart with 'magma' colors\n",
    "# TODO: Add value labels on bars, rotate x-axis, add title\n",
    "# TODO: Save the plot\n",
    "plt.close()\n",
    "\n",
    "print(\"✅ Exercise 6 completed!\")"
   ]
  },
  {
   "cell_type": "markdown",
   "id": "abdeb9e5",
   "metadata": {},
   "source": [
    "# 🥧 PIE CHART EXERCISES (2 exercises)\n",
    "\n",
    "Pie charts show **proportions** and are best used for showing parts of a whole (limited categories)."
   ]
  },
  {
   "cell_type": "markdown",
   "id": "80c02f0f",
   "metadata": {},
   "source": [
    "## Exercise 7: Pie Chart - First Kills Distribution by Top 3 Maps\n",
    "\n",
    "**TODO:** Create a pie chart showing total first kills (`qtFirstKill`) for top 3 maps\n",
    "\n",
    "**Requirements:**\n",
    "1. Group by map and sum `qtFirstKill`, then select top 3 maps\n",
    "2. Create pie chart with map names as labels\n",
    "3. Use colors from a palette of your choice\n",
    "4. Add percentage labels with autopct\n",
    "5. Save as 'adam_plot_7_first_kills_top3_maps.png'"
   ]
  },
  {
   "cell_type": "code",
   "execution_count": null,
   "id": "58a99abe",
   "metadata": {},
   "outputs": [],
   "source": [
    "# Exercise 7: YOUR CODE HERE\n",
    "\n",
    "# TODO: Group by map, sum qtFirstKill, and select top 3\n",
    "top3_maps = None  # Use .group_by(), .agg(), .sort(), .head()\n",
    "\n",
    "# Extract data for pie chart\n",
    "map_names = []  # TODO: Get map names\n",
    "first_kills = []  # TODO: Get first kill counts\n",
    "\n",
    "plt.figure(figsize=(8, 8))\n",
    "# TODO: Create pie chart with map names, colors, autopct, etc.\n",
    "# TODO: Add title and save\n",
    "plt.close()\n",
    "\n",
    "print(\"✅ Exercise 7 completed!\")"
   ]
  },
  {
   "cell_type": "markdown",
   "id": "f31ae841",
   "metadata": {},
   "source": [
    "## Exercise 8: Pie Chart - Clutch Situations Won vs Lost\n",
    "\n",
    "**TODO:** Create a pie chart showing clutch situations won vs lost\n",
    "\n",
    "**Requirements:**\n",
    "1. Calculate total clutch won (`qtClutchWon`) and total last alive minus clutch won\n",
    "2. Create pie chart showing proportion of clutches won vs opportunities\n",
    "3. Use colors ['#3498db', '#95a5a6']\n",
    "4. Add explode effect and percentages\n",
    "5. Save as 'adam_plot_8_clutch_won_pie.png'"
   ]
  },
  {
   "cell_type": "code",
   "execution_count": null,
   "id": "1f98ef3c",
   "metadata": {},
   "outputs": [],
   "source": [
    "# Exercise 8: YOUR CODE HERE\n",
    "\n",
    "# TODO: Calculate clutch statistics\n",
    "total_clutch_won = df.select(pl.col(\"qtClutchWon\").sum()).item()\n",
    "total_last_alive = df.select(pl.col(\"qtLastAlive\").sum()).item()\n",
    "clutch_lost = total_last_alive - total_clutch_won\n",
    "\n",
    "plt.figure(figsize=(8, 8))\n",
    "# TODO: Create pie chart for clutch won vs lost\n",
    "# TODO: Use specified colors, add explode, autopct, title\n",
    "# TODO: Save the plot\n",
    "plt.close()\n",
    "\n",
    "print(f\"✅ Exercise 8 completed! Clutch won: {total_clutch_won}, Lost: {clutch_lost}\")"
   ]
  },
  {
   "cell_type": "markdown",
   "id": "054fc86d",
   "metadata": {},
   "source": [
    "# 🔥 HEATMAP EXERCISES (2 exercises)\n",
    "\n",
    "Heatmaps visualize **correlation matrices** and help identify relationships between multiple variables."
   ]
  },
  {
   "cell_type": "markdown",
   "id": "ff529db4",
   "metadata": {},
   "source": [
    "## Exercise 9: Correlation Heatmap - Performance Metrics\n",
    "\n",
    "**TODO:** Create a correlation heatmap for performance metrics\n",
    "\n",
    "**Requirements:**\n",
    "1. Select columns: `qtKill`, `qtDeath`, `qtAssist`, `qtClutchWon`, `qtFirstKill`, `vlLevel`\n",
    "2. Calculate correlation matrix using `.corr()`\n",
    "3. Create heatmap with `annot=True`, `cmap='YlOrRd'`, `fmt='.2f'`\n",
    "4. Add appropriate title\n",
    "5. Save as 'adam_plot_9_performance_correlation_heatmap.png'"
   ]
  },
  {
   "cell_type": "code",
   "execution_count": null,
   "id": "0a630299",
   "metadata": {},
   "outputs": [],
   "source": [
    "# Exercise 9: YOUR CODE HERE\n",
    "\n",
    "# TODO: Select performance metrics columns\n",
    "performance_columns = []  # Add the required columns\n",
    "corr_matrix = df_pandas[performance_columns].corr()\n",
    "\n",
    "plt.figure(figsize=(10, 8))\n",
    "# TODO: Create heatmap with sns.heatmap()\n",
    "# TODO: Use specified parameters and add title\n",
    "# TODO: Save the plot\n",
    "plt.close()\n",
    "\n",
    "print(\"✅ Exercise 9 completed!\")"
   ]
  },
  {
   "cell_type": "markdown",
   "id": "d04f821e",
   "metadata": {},
   "source": [
    "## Exercise 10: Correlation Heatmap - Multi-Kill Statistics\n",
    "\n",
    "**TODO:** Create a correlation heatmap for multi-kill statistics\n",
    "\n",
    "**Requirements:**\n",
    "1. Select columns: `qt1Kill`, `qt2Kill`, `qt3Kill`, `qt4Kill`, `qt5Kill`, `qtPlusKill`\n",
    "2. Calculate correlation matrix\n",
    "3. Create heatmap with `annot=True`, `cmap='Blues'`, `fmt='.2f'`\n",
    "4. Make figure size (12, 10)\n",
    "5. Save as 'adam_plot_10_multikill_heatmap.png'"
   ]
  },
  {
   "cell_type": "code",
   "execution_count": null,
   "id": "008a38a5",
   "metadata": {},
   "outputs": [],
   "source": [
    "# Exercise 10: YOUR CODE HERE\n",
    "\n",
    "# TODO: Select multi-kill columns\n",
    "multikill_columns = []  # Add the required columns\n",
    "corr_matrix = df_pandas[multikill_columns].corr()\n",
    "\n",
    "plt.figure(figsize=(12, 10))\n",
    "# TODO: Create heatmap with sns.heatmap()\n",
    "# TODO: Use 'Blues' colormap and specified parameters\n",
    "# TODO: Save the plot\n",
    "plt.close()\n",
    "\n",
    "print(\"✅ Exercise 10 completed!\")"
   ]
  },
  {
   "cell_type": "markdown",
   "id": "d64a05c4",
   "metadata": {},
   "source": [
    "# 📦 BOX PLOT EXERCISES (2 exercises)\n",
    "\n",
    "Box plots compare **distributions** across groups and show quartiles, median, and outliers."
   ]
  },
  {
   "cell_type": "markdown",
   "id": "0b90dbe8",
   "metadata": {},
   "source": [
    "## Exercise 11: Box Plot - Headshots Distribution by Map\n",
    "\n",
    "**TODO:** Create a box plot showing headshots distribution by map\n",
    "\n",
    "**Requirements:**\n",
    "1. Use `sns.boxplot()` with `x='descMapName'`, `y='qtHs'`\n",
    "2. Use `palette='Set1'`\n",
    "3. Rotate x-axis labels 45 degrees\n",
    "4. Add grid on y-axis\n",
    "5. Save as 'adam_plot_11_headshots_boxplot_by_map.png'"
   ]
  },
  {
   "cell_type": "code",
   "execution_count": null,
   "id": "d544aa37",
   "metadata": {},
   "outputs": [],
   "source": [
    "# Exercise 11: YOUR CODE HERE\n",
    "\n",
    "plt.figure(figsize=(14, 6))\n",
    "# TODO: Create box plot using sns.boxplot()\n",
    "# TODO: Set x='descMapName', y='qtHs', palette='Set1'\n",
    "# TODO: Rotate x-axis labels, add grid, title\n",
    "# TODO: Save the plot\n",
    "plt.close()\n",
    "\n",
    "print(\"✅ Exercise 11 completed!\")"
   ]
  },
  {
   "cell_type": "markdown",
   "id": "30545092",
   "metadata": {},
   "source": [
    "## Exercise 12: Box Plot - Kills Distribution for Winners vs Losers\n",
    "\n",
    "**TODO:** Create a box plot comparing kills for winners vs losers\n",
    "\n",
    "**Requirements:**\n",
    "1. Use `sns.boxplot()` with `x='flWinner'`, `y='qtKill'`\n",
    "2. Use `palette='rocket'`\n",
    "3. Set x-axis labels to ['Loss', 'Win']\n",
    "4. Add appropriate title and labels\n",
    "5. Save as 'adam_plot_12_kills_winner_boxplot.png'"
   ]
  },
  {
   "cell_type": "code",
   "execution_count": null,
   "id": "bc74e229",
   "metadata": {},
   "outputs": [],
   "source": [
    "# Exercise 12: YOUR CODE HERE\n",
    "\n",
    "plt.figure(figsize=(10, 6))\n",
    "# TODO: Create box plot using sns.boxplot()\n",
    "# TODO: Set x='flWinner', y='qtKill', palette='rocket'\n",
    "# TODO: Set x-axis labels to ['Loss', 'Win']\n",
    "# TODO: Add title, labels, and save\n",
    "plt.close()\n",
    "\n",
    "print(\"✅ Exercise 12 completed!\")"
   ]
  },
  {
   "cell_type": "markdown",
   "id": "a3b13eed",
   "metadata": {},
   "source": [
    "# 🎉 SUMMARY\n",
    "\n",
    "## All Exercises Complete!\n",
    "\n",
    "You've successfully worked through:\n",
    "- **📊 2 Histogram exercises** (data distribution)\n",
    "- **🔗 2 Scatter plot exercises** (correlations)\n",
    "- **📊 2 Bar chart exercises** (category comparisons)\n",
    "- **🥧 2 Pie chart exercises** (proportions)\n",
    "- **🔥 2 Heatmap exercises** (correlation matrices)\n",
    "- **📦 2 Box plot exercises** (distribution comparisons)\n",
    "\n",
    "### Next Steps:\n",
    "1. ✅ Review all your generated plots\n",
    "2. ✅ Compare results with Kaka's exercises\n",
    "3. ✅ Experiment with different parameters\n",
    "4. ✅ Try creating variations of the plots\n",
    "5. ✅ Move on to regression modeling!\n",
    "\n",
    "### Files Generated:\n",
    "Check your notebook directory for 12 PNG files named `adam_plot_1_*.png` through `adam_plot_12_*.png`\n",
    "\n",
    "**Great job, Adam! 🚀📊**"
   ]
  }
 ],
 "metadata": {
  "kernelspec": {
   "display_name": "adam",
   "language": "python",
   "name": "python3"
  },
  "language_info": {
   "codemirror_mode": {
    "name": "ipython",
    "version": 3
   },
   "file_extension": ".py",
   "mimetype": "text/x-python",
   "name": "python",
   "nbconvert_exporter": "python",
   "pygments_lexer": "ipython3",
   "version": "3.13.9"
  }
 },
 "nbformat": 4,
 "nbformat_minor": 5
}
